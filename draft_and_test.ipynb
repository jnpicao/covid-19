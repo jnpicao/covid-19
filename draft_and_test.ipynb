{
 "cells": [
  {
   "cell_type": "code",
   "execution_count": 1,
   "metadata": {},
   "outputs": [],
   "source": [
    "import requests\n",
    "\n",
    "import pandas as pd\n",
    "import numpy as np\n",
    "\n",
    "import matplotlib.pyplot as plt\n",
    "%matplotlib inline"
   ]
  },
  {
   "cell_type": "code",
   "execution_count": 2,
   "metadata": {},
   "outputs": [],
   "source": [
    "# Import Functions that we will be using"
   ]
  },
  {
   "cell_type": "code",
   "execution_count": 3,
   "metadata": {},
   "outputs": [],
   "source": [
    "# Receives df_main, sums across states, and returns DataFrame with just the last day\n",
    "\n",
    "def build_single_day_df(df_main, day_to_use=None):\n",
    "\n",
    "    # Create new DataFrame for country-level analysis\n",
    "    df_today = df_main.copy()\n",
    "    \n",
    "    # Aggregates suming the values for different states\n",
    "    df_today = df_today.groupby(level = ['country', 'date']).sum().sort_index()\n",
    "\n",
    "    # Drop unused columns\n",
    "    df_today = df_today.drop(columns=['lat', 'long'])\n",
    "    \n",
    "    # Keep a signle date in the dataframe\n",
    "    if day_to_use is None:\n",
    "        day_to_use = df_today.index.get_level_values('date').max()\n",
    "    \n",
    "\n",
    "    idx = pd.IndexSlice\n",
    "    df_today = df_today.loc[idx[:,day_to_use], :]    \n",
    "    \n",
    "    return df_today"
   ]
  },
  {
   "cell_type": "code",
   "execution_count": 4,
   "metadata": {},
   "outputs": [],
   "source": [
    "# Receives df_main, sums across states, and returns DataFrame with just the last day\n",
    "\n",
    "def build_single_country_df(df_main, country=None):\n",
    "    \n",
    "    # Create new DataFrame for single coubtry analysis\n",
    "    df_country = df_main.copy()\n",
    "    \n",
    "    # Aggregates suming the values for different states\n",
    "    df_country = df_country.groupby(level = ['country', 'date']).sum().sort_index()\n",
    "    \n",
    "    # Drop unused columns\n",
    "    df_country = df_country.drop(columns=['lat', 'long'])\n",
    "    \n",
    "    # If a country was not provided retur None\n",
    "    if country is None:\n",
    "        return None\n",
    "    \n",
    "    # Keep a signle country in the dataframe and remove first two dates\n",
    "    \n",
    "    # Because of the .diff() operator, the faetures 'new_infections' and 'new_infections_increase'\n",
    "    # have values of the previous country in the first two dates available for each country.\n",
    "    first_date_to_use = df_country.index.get_level_values('date').min() + pd.Timedelta(days=2)\n",
    "    \n",
    "    idx = pd.IndexSlice\n",
    "    df_country = df_country.loc[idx[country, first_date_to_use:], :] \n",
    "    \n",
    "    return df_country\n"
   ]
  },
  {
   "cell_type": "code",
   "execution_count": 5,
   "metadata": {},
   "outputs": [],
   "source": [
    "# Prints Last Day View plots \n",
    "\n",
    "def plot_today_figures(df_today, var_to_plot, pop=None, num_countries=10, min_pop = 1):\n",
    "    \n",
    "    df_plot = df_today[[var_to_plot]].copy()\n",
    "    \n",
    "    # save the last date and drop date index\n",
    "    last_date_str = df_plot.index.get_level_values('date').max().strftime(\"%d-%b-%Y\") \n",
    "    df_plot = df_plot.reset_index(level='date', drop=True)\n",
    "    \n",
    "    if pop is not None:\n",
    "        \n",
    "        # validade population DataFrame\n",
    "        assert isinstance(pop, pd.DataFrame)\n",
    "        assert pop.index.name == 'country'\n",
    "        assert 'million_people' in pop.columns\n",
    "        \n",
    "        # merge with COVID DataFrame\n",
    "        df_plot = pd.merge(df_plot, pop, how='inner', on='country', validate='one_to_one')\n",
    "        \n",
    "        # Create variable to plot formatted with correct units\n",
    "        df_plot['plot_this'] = df_plot[var_to_plot] / df_plot['million_people']\n",
    "        \n",
    "        # Drop countries with less than min_pop population\n",
    "        df_plot = df_plot.loc[df_plot.million_people > min_pop,:]\n",
    "        \n",
    "    else:\n",
    "        df_plot['plot_this'] = df_plot[var_to_plot]\n",
    "\n",
    "    \n",
    "    \n",
    "    # select top countries\n",
    "    top_list = df_plot.loc[:, 'plot_this'].sort_values(ascending=False).iloc[:num_countries].index.tolist()\n",
    "    \n",
    "    if \"portugal\" not in top_list:\n",
    "        top_list.append(\"portugal\")\n",
    "    \n",
    "    # Format plot title\n",
    "    plot_title_str = '{} on {}'.format(var_to_plot, last_date_str).replace('_', ' ').capitalize()\n",
    "    if 'increase' in plot_title_str:\n",
    "        plot_title_str += ' from previous day value' \n",
    "    \n",
    "    # Format ylabel\n",
    "    if pop is not None:\n",
    "        y_lab = 'per million people'\n",
    "    else:\n",
    "        y_lab = 'total'\n",
    "    \n",
    "    # Format plot file name\n",
    "    file_name_str = var_to_plot + '_' + y_lab.replace(' ', '_')\n",
    "    \n",
    "    # Plot\n",
    "    df_plot.loc[top_list, ['plot_this']].plot.bar(figsize=(8,4))\n",
    "    \n",
    "    plt.grid(axis='y')\n",
    "    plt.legend('')\n",
    "\n",
    "    plt.title(plot_title_str)\n",
    "    plt.ylabel('[{}]'.format(y_lab))\n",
    "    plt.xticks(rotation=25)\n",
    "    \n",
    "    plt.savefig(os.path.join('plots', file_name_str));\n",
    "\n",
    "    \n",
    "    return df_plot, top_list"
   ]
  },
  {
   "cell_type": "code",
   "execution_count": 6,
   "metadata": {},
   "outputs": [],
   "source": [
    "def plot_country_figures(df_country, \n",
    "                         min_num_cases = 100,\n",
    "                         var_to_plot='new_infections', \n",
    "                         log=True, \n",
    "                         pct_change=False, \n",
    "                         rolling=7):\n",
    "    \n",
    "    df_plot = df_country.copy()\n",
    "    \n",
    "    # Record the date when the number of comfirmed cases exceeds the minimum number of cases (min_num_cases)\n",
    "    first_date = df_plot.loc[ df_plot.total_infections > min_num_cases, :].index.get_level_values('date')[0]\n",
    "    \n",
    "    # Save country name and remove it from the DataFrame index\n",
    "    country_name = df_plot.index.get_level_values('country')[0]\n",
    "    \n",
    "    if var_to_plot is None:\n",
    "        print(\"plot_country_figures(): no variable was defined\")\n",
    "        return\n",
    "    \n",
    "    # Save a new time series with the variable to plot\n",
    "    df_plot = df_plot.reset_index(level='country', drop=True)\n",
    "    ts = df_plot[var_to_plot]\n",
    "    \n",
    "    # We assume that when the variable takes the value zero it means missing\n",
    "    ts = ts.replace(to_replace=0, value=np.nan)\n",
    "    \n",
    "    # Format plot title and y axis label\n",
    "    plot_title_str = var_to_plot \n",
    "    y_lab = \"\"\n",
    "    \n",
    "    if pct_change == True:\n",
    "        ts = ts.pct_change().multiply(100)\n",
    "        \n",
    "        # we assum more than 500% increase is an error in reporting\n",
    "        ts[ts > 500] = np.nan\n",
    "        \n",
    "        plot_title_str += \" growth rate\"\n",
    "        y_lab = \"[%]\"\n",
    "        # if pct_change is True, then it makes no sense to use log scale\n",
    "        log = False\n",
    "        \n",
    "        if rolling > 1:\n",
    "            ts = ts.rolling(rolling, min_periods=1).mean()\n",
    "\n",
    "            plot_title_str += \" ({} days moving average)\".format(rolling)\n",
    "    \n",
    "    \n",
    "    plot_title_str = plot_title_str.replace('_', ' ').capitalize()\n",
    "    plot_title_str += \" in {}\".format(country_name.upper())\n",
    "    \n",
    "    # Format ylabel\n",
    "    if log == True:\n",
    "        y_lab = '[log. scale]'  \n",
    "    \n",
    "    \n",
    "    ts[first_date:].plot(figsize=(8,4), marker='D', markersize=4, logy=log)\n",
    "\n",
    "    plt.grid(axis='y')\n",
    "    plt.legend('')\n",
    "\n",
    "    plt.title(plot_title_str)\n",
    "    plt.ylabel(y_lab)\n",
    "    plt.show();\n",
    "    \n",
    "    return ts"
   ]
  },
  {
   "cell_type": "code",
   "execution_count": 7,
   "metadata": {},
   "outputs": [],
   "source": [
    "# read world population DataFrame\n",
    "df_population = pd.read_pickle('./data/df_population.pkl')"
   ]
  },
  {
   "cell_type": "code",
   "execution_count": 8,
   "metadata": {},
   "outputs": [],
   "source": [
    "# read the complete COVID DataFrame\n",
    "df_main = pd.read_pickle('./data/df_main.pkl')"
   ]
  },
  {
   "cell_type": "code",
   "execution_count": 9,
   "metadata": {},
   "outputs": [],
   "source": [
    "idx = pd.IndexSlice"
   ]
  },
  {
   "cell_type": "code",
   "execution_count": 10,
   "metadata": {},
   "outputs": [],
   "source": [
    "# Record last available date\n",
    "last_date = df_main.index.get_level_values('date').max()"
   ]
  },
  {
   "cell_type": "code",
   "execution_count": null,
   "metadata": {},
   "outputs": [],
   "source": []
  },
  {
   "cell_type": "markdown",
   "metadata": {},
   "source": [
    "# Last Day View"
   ]
  },
  {
   "cell_type": "code",
   "execution_count": 11,
   "metadata": {},
   "outputs": [],
   "source": [
    "# Build today country-level DataFrame\n",
    "df_today = build_single_day_df(df_main)"
   ]
  },
  {
   "cell_type": "code",
   "execution_count": null,
   "metadata": {},
   "outputs": [],
   "source": []
  },
  {
   "cell_type": "code",
   "execution_count": null,
   "metadata": {},
   "outputs": [],
   "source": []
  },
  {
   "cell_type": "code",
   "execution_count": 12,
   "metadata": {},
   "outputs": [
    {
     "data": {
      "text/html": [
       "<div>\n",
       "<style scoped>\n",
       "    .dataframe tbody tr th:only-of-type {\n",
       "        vertical-align: middle;\n",
       "    }\n",
       "\n",
       "    .dataframe tbody tr th {\n",
       "        vertical-align: top;\n",
       "    }\n",
       "\n",
       "    .dataframe thead th {\n",
       "        text-align: right;\n",
       "    }\n",
       "</style>\n",
       "<table border=\"1\" class=\"dataframe\">\n",
       "  <thead>\n",
       "    <tr style=\"text-align: right;\">\n",
       "      <th></th>\n",
       "      <th></th>\n",
       "      <th></th>\n",
       "      <th>lat</th>\n",
       "      <th>long</th>\n",
       "      <th>total_infections</th>\n",
       "      <th>new_infections</th>\n",
       "      <th>new_infections_increase</th>\n",
       "      <th>total_deaths</th>\n",
       "      <th>new_deaths</th>\n",
       "    </tr>\n",
       "    <tr>\n",
       "      <th>country</th>\n",
       "      <th>state</th>\n",
       "      <th>date</th>\n",
       "      <th></th>\n",
       "      <th></th>\n",
       "      <th></th>\n",
       "      <th></th>\n",
       "      <th></th>\n",
       "      <th></th>\n",
       "      <th></th>\n",
       "    </tr>\n",
       "  </thead>\n",
       "  <tbody>\n",
       "    <tr>\n",
       "      <th rowspan=\"5\" valign=\"top\">afghanistan</th>\n",
       "      <th rowspan=\"5\" valign=\"top\"></th>\n",
       "      <th>2020-01-22</th>\n",
       "      <td>33.0</td>\n",
       "      <td>65.0</td>\n",
       "      <td>0.0</td>\n",
       "      <td>NaN</td>\n",
       "      <td>NaN</td>\n",
       "      <td>0.0</td>\n",
       "      <td>NaN</td>\n",
       "    </tr>\n",
       "    <tr>\n",
       "      <th>2020-01-23</th>\n",
       "      <td>33.0</td>\n",
       "      <td>65.0</td>\n",
       "      <td>0.0</td>\n",
       "      <td>0.0</td>\n",
       "      <td>NaN</td>\n",
       "      <td>0.0</td>\n",
       "      <td>0.0</td>\n",
       "    </tr>\n",
       "    <tr>\n",
       "      <th>2020-01-24</th>\n",
       "      <td>33.0</td>\n",
       "      <td>65.0</td>\n",
       "      <td>0.0</td>\n",
       "      <td>0.0</td>\n",
       "      <td>0.0</td>\n",
       "      <td>0.0</td>\n",
       "      <td>0.0</td>\n",
       "    </tr>\n",
       "    <tr>\n",
       "      <th>2020-01-25</th>\n",
       "      <td>33.0</td>\n",
       "      <td>65.0</td>\n",
       "      <td>0.0</td>\n",
       "      <td>0.0</td>\n",
       "      <td>0.0</td>\n",
       "      <td>0.0</td>\n",
       "      <td>0.0</td>\n",
       "    </tr>\n",
       "    <tr>\n",
       "      <th>2020-01-26</th>\n",
       "      <td>33.0</td>\n",
       "      <td>65.0</td>\n",
       "      <td>0.0</td>\n",
       "      <td>0.0</td>\n",
       "      <td>0.0</td>\n",
       "      <td>0.0</td>\n",
       "      <td>0.0</td>\n",
       "    </tr>\n",
       "  </tbody>\n",
       "</table>\n",
       "</div>"
      ],
      "text/plain": [
       "                               lat  long  total_infections  new_infections  \\\n",
       "country     state date                                                       \n",
       "afghanistan       2020-01-22  33.0  65.0               0.0             NaN   \n",
       "                  2020-01-23  33.0  65.0               0.0             0.0   \n",
       "                  2020-01-24  33.0  65.0               0.0             0.0   \n",
       "                  2020-01-25  33.0  65.0               0.0             0.0   \n",
       "                  2020-01-26  33.0  65.0               0.0             0.0   \n",
       "\n",
       "                              new_infections_increase  total_deaths  \\\n",
       "country     state date                                                \n",
       "afghanistan       2020-01-22                      NaN           0.0   \n",
       "                  2020-01-23                      NaN           0.0   \n",
       "                  2020-01-24                      0.0           0.0   \n",
       "                  2020-01-25                      0.0           0.0   \n",
       "                  2020-01-26                      0.0           0.0   \n",
       "\n",
       "                              new_deaths  \n",
       "country     state date                    \n",
       "afghanistan       2020-01-22         NaN  \n",
       "                  2020-01-23         0.0  \n",
       "                  2020-01-24         0.0  \n",
       "                  2020-01-25         0.0  \n",
       "                  2020-01-26         0.0  "
      ]
     },
     "execution_count": 12,
     "metadata": {},
     "output_type": "execute_result"
    }
   ],
   "source": [
    "df_main.head()"
   ]
  },
  {
   "cell_type": "code",
   "execution_count": 14,
   "metadata": {},
   "outputs": [],
   "source": [
    "df_main2 = df_main.groupby(level = ['country', 'date']).sum().sort_index()"
   ]
  },
  {
   "cell_type": "code",
   "execution_count": 15,
   "metadata": {},
   "outputs": [
    {
     "data": {
      "text/html": [
       "<div>\n",
       "<style scoped>\n",
       "    .dataframe tbody tr th:only-of-type {\n",
       "        vertical-align: middle;\n",
       "    }\n",
       "\n",
       "    .dataframe tbody tr th {\n",
       "        vertical-align: top;\n",
       "    }\n",
       "\n",
       "    .dataframe thead th {\n",
       "        text-align: right;\n",
       "    }\n",
       "</style>\n",
       "<table border=\"1\" class=\"dataframe\">\n",
       "  <thead>\n",
       "    <tr style=\"text-align: right;\">\n",
       "      <th></th>\n",
       "      <th></th>\n",
       "      <th>lat</th>\n",
       "      <th>long</th>\n",
       "      <th>total_infections</th>\n",
       "      <th>new_infections</th>\n",
       "      <th>new_infections_increase</th>\n",
       "      <th>total_deaths</th>\n",
       "      <th>new_deaths</th>\n",
       "    </tr>\n",
       "    <tr>\n",
       "      <th>country</th>\n",
       "      <th>date</th>\n",
       "      <th></th>\n",
       "      <th></th>\n",
       "      <th></th>\n",
       "      <th></th>\n",
       "      <th></th>\n",
       "      <th></th>\n",
       "      <th></th>\n",
       "    </tr>\n",
       "  </thead>\n",
       "  <tbody>\n",
       "    <tr>\n",
       "      <th rowspan=\"5\" valign=\"top\">afghanistan</th>\n",
       "      <th>2020-01-22</th>\n",
       "      <td>33.0</td>\n",
       "      <td>65.0</td>\n",
       "      <td>0.0</td>\n",
       "      <td>0.0</td>\n",
       "      <td>0.0</td>\n",
       "      <td>0.0</td>\n",
       "      <td>0.0</td>\n",
       "    </tr>\n",
       "    <tr>\n",
       "      <th>2020-01-23</th>\n",
       "      <td>33.0</td>\n",
       "      <td>65.0</td>\n",
       "      <td>0.0</td>\n",
       "      <td>0.0</td>\n",
       "      <td>0.0</td>\n",
       "      <td>0.0</td>\n",
       "      <td>0.0</td>\n",
       "    </tr>\n",
       "    <tr>\n",
       "      <th>2020-01-24</th>\n",
       "      <td>33.0</td>\n",
       "      <td>65.0</td>\n",
       "      <td>0.0</td>\n",
       "      <td>0.0</td>\n",
       "      <td>0.0</td>\n",
       "      <td>0.0</td>\n",
       "      <td>0.0</td>\n",
       "    </tr>\n",
       "    <tr>\n",
       "      <th>2020-01-25</th>\n",
       "      <td>33.0</td>\n",
       "      <td>65.0</td>\n",
       "      <td>0.0</td>\n",
       "      <td>0.0</td>\n",
       "      <td>0.0</td>\n",
       "      <td>0.0</td>\n",
       "      <td>0.0</td>\n",
       "    </tr>\n",
       "    <tr>\n",
       "      <th>2020-01-26</th>\n",
       "      <td>33.0</td>\n",
       "      <td>65.0</td>\n",
       "      <td>0.0</td>\n",
       "      <td>0.0</td>\n",
       "      <td>0.0</td>\n",
       "      <td>0.0</td>\n",
       "      <td>0.0</td>\n",
       "    </tr>\n",
       "  </tbody>\n",
       "</table>\n",
       "</div>"
      ],
      "text/plain": [
       "                         lat  long  total_infections  new_infections  \\\n",
       "country     date                                                       \n",
       "afghanistan 2020-01-22  33.0  65.0               0.0             0.0   \n",
       "            2020-01-23  33.0  65.0               0.0             0.0   \n",
       "            2020-01-24  33.0  65.0               0.0             0.0   \n",
       "            2020-01-25  33.0  65.0               0.0             0.0   \n",
       "            2020-01-26  33.0  65.0               0.0             0.0   \n",
       "\n",
       "                        new_infections_increase  total_deaths  new_deaths  \n",
       "country     date                                                           \n",
       "afghanistan 2020-01-22                      0.0           0.0         0.0  \n",
       "            2020-01-23                      0.0           0.0         0.0  \n",
       "            2020-01-24                      0.0           0.0         0.0  \n",
       "            2020-01-25                      0.0           0.0         0.0  \n",
       "            2020-01-26                      0.0           0.0         0.0  "
      ]
     },
     "execution_count": 15,
     "metadata": {},
     "output_type": "execute_result"
    }
   ],
   "source": [
    "df_main2.head()"
   ]
  },
  {
   "cell_type": "code",
   "execution_count": 16,
   "metadata": {},
   "outputs": [
    {
     "data": {
      "text/plain": [
       "Timestamp('2020-03-30 00:00:00')"
      ]
     },
     "execution_count": 16,
     "metadata": {},
     "output_type": "execute_result"
    }
   ],
   "source": [
    "last_date = df_main2.index.get_level_values('date').max()# - pd.Timedelta(days=2)\n",
    "last_date"
   ]
  },
  {
   "cell_type": "code",
   "execution_count": 68,
   "metadata": {},
   "outputs": [],
   "source": [
    "#var_to_use = \"new_infections\"\n",
    "var_to_use = \"new_deaths\"\n",
    "num_countries = 10\n",
    "last_date = df_main2.index.get_level_values('date').max()\n",
    "start_date = last_date - pd.Timedelta(days=15)\n",
    "countries_list = df_main2.loc[idx[:, start_date:last_date], var_to_use].groupby('country').sum().sort_values(ascending=False)[:num_countries].index.tolist()"
   ]
  },
  {
   "cell_type": "code",
   "execution_count": 69,
   "metadata": {},
   "outputs": [
    {
     "data": {
      "text/plain": [
       "['italy',\n",
       " 'spain',\n",
       " 'france',\n",
       " 'us',\n",
       " 'iran',\n",
       " 'united kingdom',\n",
       " 'netherlands',\n",
       " 'germany',\n",
       " 'belgium',\n",
       " 'switzerland']"
      ]
     },
     "execution_count": 69,
     "metadata": {},
     "output_type": "execute_result"
    }
   ],
   "source": [
    "countries_list"
   ]
  },
  {
   "cell_type": "code",
   "execution_count": 70,
   "metadata": {},
   "outputs": [
    {
     "data": {
      "text/plain": [
       "country         date      \n",
       "belgium         2020-03-15      0.0\n",
       "                2020-03-16      1.0\n",
       "                2020-03-17      5.0\n",
       "                2020-03-18      4.0\n",
       "                2020-03-19      7.0\n",
       "                2020-03-20     16.0\n",
       "                2020-03-21     30.0\n",
       "                2020-03-22      8.0\n",
       "                2020-03-23     13.0\n",
       "                2020-03-24     34.0\n",
       "                2020-03-25     56.0\n",
       "                2020-03-26     42.0\n",
       "                2020-03-27     69.0\n",
       "                2020-03-28     64.0\n",
       "                2020-03-29     78.0\n",
       "                2020-03-30     82.0\n",
       "france          2020-03-15      0.0\n",
       "                2020-03-16     58.0\n",
       "                2020-03-17      0.0\n",
       "                2020-03-18      0.0\n",
       "                2020-03-19     95.0\n",
       "                2020-03-20    207.0\n",
       "                2020-03-21    112.0\n",
       "                2020-03-22    113.0\n",
       "                2020-03-23    186.0\n",
       "                2020-03-24    240.0\n",
       "                2020-03-25    231.0\n",
       "                2020-03-26    365.0\n",
       "                2020-03-27    299.0\n",
       "                2020-03-28    320.0\n",
       "                              ...  \n",
       "united kingdom  2020-03-17      0.0\n",
       "                2020-03-18     16.0\n",
       "                2020-03-19     66.0\n",
       "                2020-03-20     40.0\n",
       "                2020-03-21     56.0\n",
       "                2020-03-22     48.0\n",
       "                2020-03-23     54.0\n",
       "                2020-03-24     87.0\n",
       "                2020-03-25     43.0\n",
       "                2020-03-26    114.0\n",
       "                2020-03-27    181.0\n",
       "                2020-03-28    260.0\n",
       "                2020-03-29    210.0\n",
       "                2020-03-30    180.0\n",
       "us              2020-03-15      9.0\n",
       "                2020-03-16     22.0\n",
       "                2020-03-17     23.0\n",
       "                2020-03-18     10.0\n",
       "                2020-03-19     82.0\n",
       "                2020-03-20     44.0\n",
       "                2020-03-21     63.0\n",
       "                2020-03-22    110.0\n",
       "                2020-03-23    140.0\n",
       "                2020-03-24    149.0\n",
       "                2020-03-25    236.0\n",
       "                2020-03-26    267.0\n",
       "                2020-03-27    372.0\n",
       "                2020-03-28    445.0\n",
       "                2020-03-29    441.0\n",
       "                2020-03-30    511.0\n",
       "Name: new_deaths, Length: 160, dtype: float64"
      ]
     },
     "execution_count": 70,
     "metadata": {},
     "output_type": "execute_result"
    }
   ],
   "source": [
    "df_main2.loc[idx[countries_list, start_date:last_date], var_to_use]"
   ]
  },
  {
   "cell_type": "code",
   "execution_count": 71,
   "metadata": {},
   "outputs": [
    {
     "data": {
      "text/html": [
       "<div>\n",
       "<style scoped>\n",
       "    .dataframe tbody tr th:only-of-type {\n",
       "        vertical-align: middle;\n",
       "    }\n",
       "\n",
       "    .dataframe tbody tr th {\n",
       "        vertical-align: top;\n",
       "    }\n",
       "\n",
       "    .dataframe thead th {\n",
       "        text-align: right;\n",
       "    }\n",
       "</style>\n",
       "<table border=\"1\" class=\"dataframe\">\n",
       "  <thead>\n",
       "    <tr style=\"text-align: right;\">\n",
       "      <th>country</th>\n",
       "      <th>italy</th>\n",
       "      <th>spain</th>\n",
       "      <th>france</th>\n",
       "      <th>us</th>\n",
       "      <th>iran</th>\n",
       "      <th>united kingdom</th>\n",
       "      <th>netherlands</th>\n",
       "      <th>germany</th>\n",
       "      <th>belgium</th>\n",
       "      <th>switzerland</th>\n",
       "    </tr>\n",
       "    <tr>\n",
       "      <th>date</th>\n",
       "      <th></th>\n",
       "      <th></th>\n",
       "      <th></th>\n",
       "      <th></th>\n",
       "      <th></th>\n",
       "      <th></th>\n",
       "      <th></th>\n",
       "      <th></th>\n",
       "      <th></th>\n",
       "      <th></th>\n",
       "    </tr>\n",
       "  </thead>\n",
       "  <tbody>\n",
       "    <tr>\n",
       "      <th>2020-03-15</th>\n",
       "      <td>368.0</td>\n",
       "      <td>94.0</td>\n",
       "      <td>0.0</td>\n",
       "      <td>9.0</td>\n",
       "      <td>113.0</td>\n",
       "      <td>0.0</td>\n",
       "      <td>8.0</td>\n",
       "      <td>2.0</td>\n",
       "      <td>0.0</td>\n",
       "      <td>1.0</td>\n",
       "    </tr>\n",
       "    <tr>\n",
       "      <th>2020-03-16</th>\n",
       "      <td>349.0</td>\n",
       "      <td>53.0</td>\n",
       "      <td>58.0</td>\n",
       "      <td>22.0</td>\n",
       "      <td>129.0</td>\n",
       "      <td>35.0</td>\n",
       "      <td>4.0</td>\n",
       "      <td>6.0</td>\n",
       "      <td>1.0</td>\n",
       "      <td>0.0</td>\n",
       "    </tr>\n",
       "    <tr>\n",
       "      <th>2020-03-17</th>\n",
       "      <td>345.0</td>\n",
       "      <td>191.0</td>\n",
       "      <td>0.0</td>\n",
       "      <td>23.0</td>\n",
       "      <td>135.0</td>\n",
       "      <td>0.0</td>\n",
       "      <td>19.0</td>\n",
       "      <td>7.0</td>\n",
       "      <td>5.0</td>\n",
       "      <td>13.0</td>\n",
       "    </tr>\n",
       "    <tr>\n",
       "      <th>2020-03-18</th>\n",
       "      <td>475.0</td>\n",
       "      <td>90.0</td>\n",
       "      <td>0.0</td>\n",
       "      <td>10.0</td>\n",
       "      <td>147.0</td>\n",
       "      <td>16.0</td>\n",
       "      <td>15.0</td>\n",
       "      <td>4.0</td>\n",
       "      <td>4.0</td>\n",
       "      <td>1.0</td>\n",
       "    </tr>\n",
       "    <tr>\n",
       "      <th>2020-03-19</th>\n",
       "      <td>427.0</td>\n",
       "      <td>207.0</td>\n",
       "      <td>95.0</td>\n",
       "      <td>82.0</td>\n",
       "      <td>149.0</td>\n",
       "      <td>66.0</td>\n",
       "      <td>19.0</td>\n",
       "      <td>16.0</td>\n",
       "      <td>7.0</td>\n",
       "      <td>13.0</td>\n",
       "    </tr>\n",
       "    <tr>\n",
       "      <th>2020-03-20</th>\n",
       "      <td>627.0</td>\n",
       "      <td>213.0</td>\n",
       "      <td>207.0</td>\n",
       "      <td>44.0</td>\n",
       "      <td>149.0</td>\n",
       "      <td>40.0</td>\n",
       "      <td>30.0</td>\n",
       "      <td>23.0</td>\n",
       "      <td>16.0</td>\n",
       "      <td>13.0</td>\n",
       "    </tr>\n",
       "    <tr>\n",
       "      <th>2020-03-21</th>\n",
       "      <td>793.0</td>\n",
       "      <td>332.0</td>\n",
       "      <td>112.0</td>\n",
       "      <td>63.0</td>\n",
       "      <td>123.0</td>\n",
       "      <td>56.0</td>\n",
       "      <td>30.0</td>\n",
       "      <td>17.0</td>\n",
       "      <td>30.0</td>\n",
       "      <td>21.0</td>\n",
       "    </tr>\n",
       "    <tr>\n",
       "      <th>2020-03-22</th>\n",
       "      <td>651.0</td>\n",
       "      <td>397.0</td>\n",
       "      <td>113.0</td>\n",
       "      <td>110.0</td>\n",
       "      <td>129.0</td>\n",
       "      <td>48.0</td>\n",
       "      <td>43.0</td>\n",
       "      <td>10.0</td>\n",
       "      <td>8.0</td>\n",
       "      <td>23.0</td>\n",
       "    </tr>\n",
       "    <tr>\n",
       "      <th>2020-03-23</th>\n",
       "      <td>601.0</td>\n",
       "      <td>539.0</td>\n",
       "      <td>186.0</td>\n",
       "      <td>140.0</td>\n",
       "      <td>127.0</td>\n",
       "      <td>54.0</td>\n",
       "      <td>34.0</td>\n",
       "      <td>29.0</td>\n",
       "      <td>13.0</td>\n",
       "      <td>22.0</td>\n",
       "    </tr>\n",
       "    <tr>\n",
       "      <th>2020-03-24</th>\n",
       "      <td>743.0</td>\n",
       "      <td>497.0</td>\n",
       "      <td>240.0</td>\n",
       "      <td>149.0</td>\n",
       "      <td>122.0</td>\n",
       "      <td>87.0</td>\n",
       "      <td>63.0</td>\n",
       "      <td>34.0</td>\n",
       "      <td>34.0</td>\n",
       "      <td>2.0</td>\n",
       "    </tr>\n",
       "    <tr>\n",
       "      <th>2020-03-25</th>\n",
       "      <td>683.0</td>\n",
       "      <td>839.0</td>\n",
       "      <td>231.0</td>\n",
       "      <td>236.0</td>\n",
       "      <td>143.0</td>\n",
       "      <td>43.0</td>\n",
       "      <td>80.0</td>\n",
       "      <td>49.0</td>\n",
       "      <td>56.0</td>\n",
       "      <td>31.0</td>\n",
       "    </tr>\n",
       "    <tr>\n",
       "      <th>2020-03-26</th>\n",
       "      <td>712.0</td>\n",
       "      <td>718.0</td>\n",
       "      <td>365.0</td>\n",
       "      <td>267.0</td>\n",
       "      <td>157.0</td>\n",
       "      <td>114.0</td>\n",
       "      <td>78.0</td>\n",
       "      <td>61.0</td>\n",
       "      <td>42.0</td>\n",
       "      <td>38.0</td>\n",
       "    </tr>\n",
       "    <tr>\n",
       "      <th>2020-03-27</th>\n",
       "      <td>919.0</td>\n",
       "      <td>773.0</td>\n",
       "      <td>299.0</td>\n",
       "      <td>372.0</td>\n",
       "      <td>144.0</td>\n",
       "      <td>181.0</td>\n",
       "      <td>112.0</td>\n",
       "      <td>75.0</td>\n",
       "      <td>69.0</td>\n",
       "      <td>40.0</td>\n",
       "    </tr>\n",
       "    <tr>\n",
       "      <th>2020-03-28</th>\n",
       "      <td>889.0</td>\n",
       "      <td>844.0</td>\n",
       "      <td>320.0</td>\n",
       "      <td>445.0</td>\n",
       "      <td>139.0</td>\n",
       "      <td>260.0</td>\n",
       "      <td>93.0</td>\n",
       "      <td>91.0</td>\n",
       "      <td>64.0</td>\n",
       "      <td>33.0</td>\n",
       "    </tr>\n",
       "    <tr>\n",
       "      <th>2020-03-29</th>\n",
       "      <td>756.0</td>\n",
       "      <td>821.0</td>\n",
       "      <td>294.0</td>\n",
       "      <td>441.0</td>\n",
       "      <td>123.0</td>\n",
       "      <td>210.0</td>\n",
       "      <td>132.0</td>\n",
       "      <td>100.0</td>\n",
       "      <td>78.0</td>\n",
       "      <td>36.0</td>\n",
       "    </tr>\n",
       "    <tr>\n",
       "      <th>2020-03-30</th>\n",
       "      <td>812.0</td>\n",
       "      <td>913.0</td>\n",
       "      <td>419.0</td>\n",
       "      <td>511.0</td>\n",
       "      <td>117.0</td>\n",
       "      <td>180.0</td>\n",
       "      <td>93.0</td>\n",
       "      <td>112.0</td>\n",
       "      <td>82.0</td>\n",
       "      <td>59.0</td>\n",
       "    </tr>\n",
       "  </tbody>\n",
       "</table>\n",
       "</div>"
      ],
      "text/plain": [
       "country     italy  spain  france     us   iran  united kingdom  netherlands  \\\n",
       "date                                                                          \n",
       "2020-03-15  368.0   94.0     0.0    9.0  113.0             0.0          8.0   \n",
       "2020-03-16  349.0   53.0    58.0   22.0  129.0            35.0          4.0   \n",
       "2020-03-17  345.0  191.0     0.0   23.0  135.0             0.0         19.0   \n",
       "2020-03-18  475.0   90.0     0.0   10.0  147.0            16.0         15.0   \n",
       "2020-03-19  427.0  207.0    95.0   82.0  149.0            66.0         19.0   \n",
       "2020-03-20  627.0  213.0   207.0   44.0  149.0            40.0         30.0   \n",
       "2020-03-21  793.0  332.0   112.0   63.0  123.0            56.0         30.0   \n",
       "2020-03-22  651.0  397.0   113.0  110.0  129.0            48.0         43.0   \n",
       "2020-03-23  601.0  539.0   186.0  140.0  127.0            54.0         34.0   \n",
       "2020-03-24  743.0  497.0   240.0  149.0  122.0            87.0         63.0   \n",
       "2020-03-25  683.0  839.0   231.0  236.0  143.0            43.0         80.0   \n",
       "2020-03-26  712.0  718.0   365.0  267.0  157.0           114.0         78.0   \n",
       "2020-03-27  919.0  773.0   299.0  372.0  144.0           181.0        112.0   \n",
       "2020-03-28  889.0  844.0   320.0  445.0  139.0           260.0         93.0   \n",
       "2020-03-29  756.0  821.0   294.0  441.0  123.0           210.0        132.0   \n",
       "2020-03-30  812.0  913.0   419.0  511.0  117.0           180.0         93.0   \n",
       "\n",
       "country     germany  belgium  switzerland  \n",
       "date                                       \n",
       "2020-03-15      2.0      0.0          1.0  \n",
       "2020-03-16      6.0      1.0          0.0  \n",
       "2020-03-17      7.0      5.0         13.0  \n",
       "2020-03-18      4.0      4.0          1.0  \n",
       "2020-03-19     16.0      7.0         13.0  \n",
       "2020-03-20     23.0     16.0         13.0  \n",
       "2020-03-21     17.0     30.0         21.0  \n",
       "2020-03-22     10.0      8.0         23.0  \n",
       "2020-03-23     29.0     13.0         22.0  \n",
       "2020-03-24     34.0     34.0          2.0  \n",
       "2020-03-25     49.0     56.0         31.0  \n",
       "2020-03-26     61.0     42.0         38.0  \n",
       "2020-03-27     75.0     69.0         40.0  \n",
       "2020-03-28     91.0     64.0         33.0  \n",
       "2020-03-29    100.0     78.0         36.0  \n",
       "2020-03-30    112.0     82.0         59.0  "
      ]
     },
     "execution_count": 71,
     "metadata": {},
     "output_type": "execute_result"
    }
   ],
   "source": [
    "df_main2.loc[idx[countries_list, start_date:last_date], var_to_use].unstack(level='country')[countries_list]"
   ]
  },
  {
   "cell_type": "code",
   "execution_count": 74,
   "metadata": {
    "scrolled": true
   },
   "outputs": [
    {
     "data": {
      "text/plain": [
       "<matplotlib.axes._subplots.AxesSubplot at 0x91bd279630>"
      ]
     },
     "execution_count": 74,
     "metadata": {},
     "output_type": "execute_result"
    },
    {
     "data": {
      "image/png": "[encoded data removed]",
      "text/plain": [
       "<Figure size 720x360 with 1 Axes>"
      ]
     },
     "metadata": {
      "needs_background": "light"
     },
     "output_type": "display_data"
    }
   ],
   "source": [
    "df_main2.loc[idx[countries_list, start_date:last_date], var_to_use].unstack(level='country')[countries_list].plot(figsize=(10,5))"
   ]
  },
  {
   "cell_type": "code",
   "execution_count": null,
   "metadata": {},
   "outputs": [],
   "source": []
  },
  {
   "cell_type": "code",
   "execution_count": null,
   "metadata": {},
   "outputs": [],
   "source": []
  },
  {
   "cell_type": "code",
   "execution_count": null,
   "metadata": {},
   "outputs": [],
   "source": []
  },
  {
   "cell_type": "code",
   "execution_count": null,
   "metadata": {},
   "outputs": [],
   "source": []
  },
  {
   "cell_type": "code",
   "execution_count": null,
   "metadata": {},
   "outputs": [],
   "source": []
  },
  {
   "cell_type": "code",
   "execution_count": null,
   "metadata": {},
   "outputs": [],
   "source": []
  },
  {
   "cell_type": "markdown",
   "metadata": {},
   "source": [
    "# The SIR model  \n",
    "\n",
    "<img src=\"./media/Typical-SIR-model-solution-showing-progression-of-population-disease-states-for.PNG\" style=\"float:left; width:500px\"/>  \n",
    "\n",
    "<br clear=\"all\">\n",
    "\n",
    "$\\dfrac{dS}{dt} = - \\dfrac{\\beta I S}{N}$  \n",
    "\n",
    "$\\dfrac{dI}{dt} = \\dfrac{\\beta I S}{N} - \\gamma I$  \n",
    "\n",
    "$\\dfrac{dR}{dt} = \\gamma I$  \n",
    "\n",
    "with $R_0 = \\dfrac{\\beta}{\\gamma}$.  "
   ]
  },
  {
   "cell_type": "markdown",
   "metadata": {},
   "source": [
    "### In the initial stages of propagation the nº of infected is exponential with rate $R_0$ (confirm)  \n",
    "\n",
    "### Explain why the appearence of more sources does not change the evolution rate  \n",
    "\n",
    "### How to estimate $R_0$?  \n",
    "* The effect of testing (with know only a percentage of infeted)\n",
    "* The effect of social distancing measures\n",
    "\n",
    "### Estimate the impact of lockdown on $R_0$"
   ]
  },
  {
   "cell_type": "code",
   "execution_count": null,
   "metadata": {},
   "outputs": [],
   "source": []
  },
  {
   "cell_type": "code",
   "execution_count": null,
   "metadata": {},
   "outputs": [],
   "source": []
  },
  {
   "cell_type": "code",
   "execution_count": null,
   "metadata": {},
   "outputs": [],
   "source": []
  },
  {
   "cell_type": "code",
   "execution_count": null,
   "metadata": {},
   "outputs": [],
   "source": []
  },
  {
   "cell_type": "code",
   "execution_count": 13,
   "metadata": {},
   "outputs": [
    {
     "ename": "SyntaxError",
     "evalue": "invalid syntax (<ipython-input-13-e4b485753724>, line 6)",
     "output_type": "error",
     "traceback": [
      "\u001b[1;36m  File \u001b[1;32m\"<ipython-input-13-e4b485753724>\"\u001b[1;36m, line \u001b[1;32m6\u001b[0m\n\u001b[1;33m    df_today =\u001b[0m\n\u001b[1;37m               ^\u001b[0m\n\u001b[1;31mSyntaxError\u001b[0m\u001b[1;31m:\u001b[0m invalid syntax\n"
     ]
    }
   ],
   "source": [
    "# Keep last available values\n",
    "last_date = df_today.index.get_level_values('date').max()\n",
    "\n",
    "idx = pd.IndexSlice\n",
    "df_today = df_today.loc[idx[:,last_date], :]\n",
    "df_today = "
   ]
  },
  {
   "cell_type": "code",
   "execution_count": null,
   "metadata": {},
   "outputs": [],
   "source": [
    "df_today[[:,:],:]"
   ]
  },
  {
   "cell_type": "code",
   "execution_count": null,
   "metadata": {},
   "outputs": [],
   "source": [
    "last_date - pd.Timedelta('10 D')"
   ]
  },
  {
   "cell_type": "code",
   "execution_count": null,
   "metadata": {},
   "outputs": [],
   "source": [
    "# Select cross section of countries\n",
    "cs_countries = df_today.groupby('country')[variable].sum()"
   ]
  },
  {
   "cell_type": "markdown",
   "metadata": {},
   "source": [
    "### Choose variable"
   ]
  },
  {
   "cell_type": "code",
   "execution_count": null,
   "metadata": {},
   "outputs": [],
   "source": [
    "# choose variable: confirmed, recovered, deaths\n",
    "variable = \"confirmed\""
   ]
  },
  {
   "cell_type": "markdown",
   "metadata": {},
   "source": [
    "### Choose data format"
   ]
  },
  {
   "cell_type": "code",
   "execution_count": null,
   "metadata": {},
   "outputs": [],
   "source": [
    "# choose data format: total or new\n",
    "data_format = \"new\""
   ]
  },
  {
   "cell_type": "markdown",
   "metadata": {},
   "source": [
    "---"
   ]
  },
  {
   "cell_type": "code",
   "execution_count": null,
   "metadata": {},
   "outputs": [],
   "source": [
    "# Confirm aceptable value for variable\n",
    "assert variable in ['confirmed', 'recovered', 'deaths']\n",
    "\n",
    "# Confirm acceptable value for data_format\n",
    "assert data_format in ['total', 'new']"
   ]
  },
  {
   "cell_type": "code",
   "execution_count": null,
   "metadata": {},
   "outputs": [],
   "source": []
  },
  {
   "cell_type": "code",
   "execution_count": null,
   "metadata": {},
   "outputs": [],
   "source": [
    "# If analysis of new cases compute difference from previous day\n",
    "if data_format == \"new\":\n",
    "    df_today.loc[:,['confirmed', 'recovered', 'deaths']] = df_today.loc[:,['confirmed', 'recovered', 'deaths']].diff(periods=1)\n",
    "    "
   ]
  },
  {
   "cell_type": "code",
   "execution_count": null,
   "metadata": {
    "scrolled": true
   },
   "outputs": [],
   "source": [
    "# select last available date\n",
    "last_date = df.date.drop_duplicates().sort_values().iloc[-1]\n",
    "last_date"
   ]
  },
  {
   "cell_type": "code",
   "execution_count": null,
   "metadata": {},
   "outputs": [],
   "source": [
    "df_today = df_today.loc[df_today.date == last_date,: ].reset_index(drop=True)\n",
    "df_today = df_today.loc[:, ['date', 'country', 'confirmed', 'recovered', 'deaths']]"
   ]
  },
  {
   "cell_type": "code",
   "execution_count": null,
   "metadata": {},
   "outputs": [],
   "source": [
    "# Select cross section of countries\n",
    "cs_countries = df_today.groupby('country')[variable].sum()"
   ]
  },
  {
   "cell_type": "code",
   "execution_count": null,
   "metadata": {},
   "outputs": [],
   "source": [
    "# select top-level countries plus portugal\n",
    "top_number = 10\n",
    "top_list = cs_countries.sort_values(ascending=False).iloc[:top_number].index.tolist()\n",
    "\n",
    "if \"portugal\" not in top_list:\n",
    "    top_list.append(\"portugal\")"
   ]
  },
  {
   "cell_type": "code",
   "execution_count": null,
   "metadata": {
    "scrolled": false
   },
   "outputs": [],
   "source": [
    "cs_countries.loc[top_list].to_frame().plot.bar(figsize=(8,4))\n",
    "\n",
    "plt.grid(axis='y')\n",
    "plt.legend()\n",
    "\n",
    "plt.title('{} {} cases on {}'.format(data_format, variable, last_date.strftime(\"%d-%b-%Y\")))\n",
    "plt.ylabel('');"
   ]
  },
  {
   "cell_type": "code",
   "execution_count": null,
   "metadata": {
    "scrolled": true
   },
   "outputs": [],
   "source": [
    "df_today"
   ]
  },
  {
   "cell_type": "code",
   "execution_count": null,
   "metadata": {},
   "outputs": [],
   "source": [
    "pd.merge(df_today, df_population, how='left', on='country', validate='many_to_one')"
   ]
  },
  {
   "cell_type": "code",
   "execution_count": null,
   "metadata": {},
   "outputs": [],
   "source": []
  },
  {
   "cell_type": "code",
   "execution_count": null,
   "metadata": {},
   "outputs": [],
   "source": [
    "pd.merge(df_clean, df_hospitais_codes, how='left', on='clean_name', validate='many_to_one')"
   ]
  },
  {
   "cell_type": "markdown",
   "metadata": {},
   "source": [
    "---"
   ]
  },
  {
   "cell_type": "markdown",
   "metadata": {},
   "source": [
    "# Single country analysis - time series"
   ]
  },
  {
   "cell_type": "markdown",
   "metadata": {},
   "source": [
    "### Choose country, state"
   ]
  },
  {
   "cell_type": "code",
   "execution_count": null,
   "metadata": {},
   "outputs": [],
   "source": [
    "# choose country\n",
    "country = \"spain\"\n",
    "\n",
    "# choose state\n",
    "state = \"\""
   ]
  },
  {
   "cell_type": "markdown",
   "metadata": {},
   "source": [
    "### Choose variable"
   ]
  },
  {
   "cell_type": "code",
   "execution_count": null,
   "metadata": {},
   "outputs": [],
   "source": [
    "# choose variable: confirmed, recovered, deaths\n",
    "variable = \"confirmed\""
   ]
  },
  {
   "cell_type": "markdown",
   "metadata": {},
   "source": [
    "### Choose data format"
   ]
  },
  {
   "cell_type": "code",
   "execution_count": null,
   "metadata": {},
   "outputs": [],
   "source": [
    "# choose data format: total or new\n",
    "data_format = \"new\""
   ]
  },
  {
   "cell_type": "markdown",
   "metadata": {},
   "source": [
    "---"
   ]
  },
  {
   "cell_type": "code",
   "execution_count": null,
   "metadata": {},
   "outputs": [],
   "source": [
    "# Confirm aceptable values for country and state\n",
    "assert country in df.country.values\n",
    "assert state in df.loc[df.country==country].state.values\n",
    "\n",
    "# Confirm aceptable value for variable\n",
    "assert variable in ['confirmed', 'recovered', 'deaths']\n",
    "\n",
    "# Confirm acceptable value for data_format\n",
    "assert data_format in ['total', 'new']"
   ]
  },
  {
   "cell_type": "code",
   "execution_count": null,
   "metadata": {},
   "outputs": [],
   "source": [
    "# same DataFrame but only for one country\n",
    "df_country = df.loc[(df.country==country) & (df.state==state)].reset_index(drop = True).sort_values(by='date')\n",
    "\n",
    "# confirm that we have only one observation per day\n",
    "assert df_country.date.duplicated().sum() == 0\n",
    "\n",
    "# set data as DataFrame index\n",
    "df_country = df_country.set_index('date')"
   ]
  },
  {
   "cell_type": "code",
   "execution_count": null,
   "metadata": {},
   "outputs": [],
   "source": [
    "# drop values before the number of comfirmed cases exceeds a minimum number of cases (min_num_cases)\n",
    "min_num_cases = 1000\n",
    "\n",
    "first_date = df_country['confirmed'].loc[df_country['confirmed'] > min_num_cases].index[0]\n",
    "#first_date"
   ]
  },
  {
   "cell_type": "code",
   "execution_count": null,
   "metadata": {},
   "outputs": [],
   "source": [
    "if data_format == \"new\":\n",
    "    df_country.loc[:,['confirmed', 'recovered', 'deaths']] = df_country.loc[:,['confirmed', 'recovered', 'deaths']].diff(periods=1)\n",
    "    "
   ]
  },
  {
   "cell_type": "markdown",
   "metadata": {},
   "source": [
    "### time-trend plot"
   ]
  },
  {
   "cell_type": "code",
   "execution_count": null,
   "metadata": {
    "scrolled": false
   },
   "outputs": [],
   "source": [
    "plt.figure(figsize=(8,4))\n",
    "df_country[variable].loc[first_date:].plot(marker='D', markersize=4)\n",
    "\n",
    "plt.grid(axis='y')\n",
    "plt.legend()\n",
    "\n",
    "plt.title('{} {} cases for {} {}'.format(data_format, variable, country, state))\n",
    "plt.ylabel('');"
   ]
  },
  {
   "cell_type": "markdown",
   "metadata": {},
   "source": [
    "### time-trend plot (log scale)"
   ]
  },
  {
   "cell_type": "code",
   "execution_count": null,
   "metadata": {},
   "outputs": [],
   "source": [
    "plt.figure(figsize=(8,4))\n",
    "df_country[variable].loc[first_date:].plot(marker='D', markersize=4, logy=True)\n",
    "\n",
    "plt.grid(axis='y')\n",
    "plt.legend()\n",
    "\n",
    "plt.title('{} {} cases for {} {} - log scale'.format(data_format, variable, country, state))\n",
    "plt.ylabel('');"
   ]
  },
  {
   "cell_type": "markdown",
   "metadata": {},
   "source": [
    "### daily growth rate"
   ]
  },
  {
   "cell_type": "code",
   "execution_count": null,
   "metadata": {
    "scrolled": true
   },
   "outputs": [],
   "source": [
    "plt.figure(figsize=(8,4))\n",
    "df_country[variable].loc[first_date:].pct_change().multiply(100).plot(marker='D', markersize=4)\n",
    "\n",
    "plt.grid(axis='y')\n",
    "plt.legend()\n",
    "\n",
    "plt.title('{} {} cases for {} {} - daily pct. change'.format(data_format, variable, country, state))\n",
    "plt.ylabel('[%]');"
   ]
  },
  {
   "cell_type": "markdown",
   "metadata": {},
   "source": [
    "### daily growth rate - rolling mean"
   ]
  },
  {
   "cell_type": "code",
   "execution_count": null,
   "metadata": {
    "scrolled": true
   },
   "outputs": [],
   "source": [
    "num_days = 7\n",
    "\n",
    "plt.figure(figsize=(8,4))\n",
    "df_country[variable].loc[first_date:].pct_change().multiply(100).rolling(num_days, min_periods=num_days-2).mean().plot(marker='D', markersize=4)\n",
    "\n",
    "plt.grid(axis='y')\n",
    "plt.legend()\n",
    "\n",
    "plt.title('{} {} cases for {} {} - daily pct. change {} days rolling-mean'.format(data_format, variable, country, state, num_days))\n",
    "#plt.title('Daily pct. change of {} cases for {} {} - {} days rolling-mean'.format(variable, country, state, num_days))\n",
    "plt.ylabel('[%]');\n"
   ]
  },
  {
   "cell_type": "markdown",
   "metadata": {},
   "source": [
    "---"
   ]
  },
  {
   "cell_type": "markdown",
   "metadata": {},
   "source": [
    "### Nº of days to double cases"
   ]
  },
  {
   "cell_type": "code",
   "execution_count": null,
   "metadata": {},
   "outputs": [],
   "source": [
    "daily_growth = 0.05"
   ]
  },
  {
   "cell_type": "code",
   "execution_count": null,
   "metadata": {},
   "outputs": [],
   "source": [
    "num_days_to_double = (np.log(2))/(np.log(1+daily_growth))\n",
    "num_days_to_double"
   ]
  },
  {
   "cell_type": "code",
   "execution_count": null,
   "metadata": {},
   "outputs": [],
   "source": []
  },
  {
   "cell_type": "code",
   "execution_count": null,
   "metadata": {},
   "outputs": [],
   "source": [
    "x =np.arange(0,30,1)\n",
    "y = 1000*(1+0.1)**x"
   ]
  },
  {
   "cell_type": "code",
   "execution_count": null,
   "metadata": {},
   "outputs": [],
   "source": [
    "plt.plot(x, y);"
   ]
  },
  {
   "cell_type": "code",
   "execution_count": null,
   "metadata": {},
   "outputs": [],
   "source": [
    "ys = pd.Series(y)"
   ]
  },
  {
   "cell_type": "code",
   "execution_count": null,
   "metadata": {},
   "outputs": [],
   "source": [
    "ys.pct_change()"
   ]
  },
  {
   "cell_type": "code",
   "execution_count": null,
   "metadata": {},
   "outputs": [],
   "source": [
    "ys.diff().pct_change()"
   ]
  },
  {
   "cell_type": "code",
   "execution_count": null,
   "metadata": {},
   "outputs": [],
   "source": []
  },
  {
   "cell_type": "code",
   "execution_count": null,
   "metadata": {},
   "outputs": [],
   "source": []
  },
  {
   "cell_type": "code",
   "execution_count": null,
   "metadata": {},
   "outputs": [],
   "source": []
  },
  {
   "cell_type": "code",
   "execution_count": null,
   "metadata": {},
   "outputs": [],
   "source": []
  },
  {
   "cell_type": "code",
   "execution_count": null,
   "metadata": {},
   "outputs": [],
   "source": []
  },
  {
   "cell_type": "code",
   "execution_count": null,
   "metadata": {},
   "outputs": [],
   "source": [
    "s.plot()"
   ]
  },
  {
   "cell_type": "code",
   "execution_count": null,
   "metadata": {},
   "outputs": [],
   "source": [
    "s.pct_change().plot()"
   ]
  },
  {
   "cell_type": "code",
   "execution_count": null,
   "metadata": {},
   "outputs": [],
   "source": [
    "s.pct_change().rolling(7).mean().plot()"
   ]
  },
  {
   "cell_type": "code",
   "execution_count": null,
   "metadata": {},
   "outputs": [],
   "source": [
    "df.loc[(df.country==\"China\") & (df.state==\"Hubei\"),:].confirmed.plot()"
   ]
  },
  {
   "cell_type": "code",
   "execution_count": null,
   "metadata": {},
   "outputs": [],
   "source": []
  },
  {
   "cell_type": "code",
   "execution_count": null,
   "metadata": {},
   "outputs": [],
   "source": []
  },
  {
   "cell_type": "code",
   "execution_count": null,
   "metadata": {},
   "outputs": [],
   "source": []
  }
 ],
 "metadata": {
  "kernelspec": {
   "display_name": "Python 3",
   "language": "python",
   "name": "python3"
  },
  "language_info": {
   "codemirror_mode": {
    "name": "ipython",
    "version": 3
   },
   "file_extension": ".py",
   "mimetype": "text/x-python",
   "name": "python",
   "nbconvert_exporter": "python",
   "pygments_lexer": "ipython3",
   "version": "3.7.1"
  }
 },
 "nbformat": 4,
 "nbformat_minor": 2
}
